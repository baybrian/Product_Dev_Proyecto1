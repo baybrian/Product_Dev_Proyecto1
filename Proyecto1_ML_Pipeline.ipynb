{
 "cells": [
  {
   "cell_type": "markdown",
   "metadata": {},
   "source": [
    "# Proyecto # 1 - 2a Parte\n",
    "## Product Development - Ing. Preng Biba\n",
    "### Hugo Brian Bay Rojas - Carnet 20002544"
   ]
  },
  {
   "cell_type": "markdown",
   "metadata": {},
   "source": [
    "## 5. Machine Learning Pipeline"
   ]
  },
  {
   "cell_type": "code",
   "execution_count": 1,
   "metadata": {},
   "outputs": [],
   "source": [
    "import pandas as pd\n",
    "import numpy as np\n",
    "\n",
    "import matplotlib.pyplot as plt\n",
    "\n",
    "import scipy.stats as stats\n",
    "\n",
    "from sklearn.linear_model import LinearRegression\n",
    "from sklearn.metrics import mean_squared_error, r2_score\n",
    "from scipy.special import inv_boxcox\n",
    "from sklearn.model_selection import train_test_split\n",
    "from sklearn.preprocessing import MinMaxScaler, Binarizer\n",
    "\n",
    "from sklearn.pipeline import Pipeline\n",
    "\n",
    "from feature_engine.imputation import(\n",
    "    AddMissingIndicator,\n",
    "    MeanMedianImputer,\n",
    "    CategoricalImputer\n",
    ")\n",
    "\n",
    "from feature_engine.encoding import (\n",
    "    RareLabelEncoder,\n",
    "    OrdinalEncoder\n",
    ")\n",
    "\n",
    "from feature_engine.transformation import YeoJohnsonTransformer\n",
    "from feature_engine.transformation import BoxCoxTransformer\n",
    "\n",
    "from feature_engine.selection import DropFeatures\n",
    "from feature_engine.wrappers import SklearnTransformerWrapper\n",
    "\n",
    "import joblib"
   ]
  },
  {
   "cell_type": "code",
   "execution_count": 2,
   "metadata": {},
   "outputs": [],
   "source": [
    "import my_preprocessors as mypp"
   ]
  },
  {
   "cell_type": "code",
   "execution_count": 3,
   "metadata": {},
   "outputs": [
    {
     "data": {
      "text/html": [
       "<div>\n",
       "<style scoped>\n",
       "    .dataframe tbody tr th:only-of-type {\n",
       "        vertical-align: middle;\n",
       "    }\n",
       "\n",
       "    .dataframe tbody tr th {\n",
       "        vertical-align: top;\n",
       "    }\n",
       "\n",
       "    .dataframe thead th {\n",
       "        text-align: right;\n",
       "    }\n",
       "</style>\n",
       "<table border=\"1\" class=\"dataframe\">\n",
       "  <thead>\n",
       "    <tr style=\"text-align: right;\">\n",
       "      <th></th>\n",
       "      <th>ID</th>\n",
       "      <th>Gender</th>\n",
       "      <th>DOB</th>\n",
       "      <th>10percentage</th>\n",
       "      <th>10board</th>\n",
       "      <th>12graduation</th>\n",
       "      <th>12percentage</th>\n",
       "      <th>12board</th>\n",
       "      <th>CollegeID</th>\n",
       "      <th>CollegeTier</th>\n",
       "      <th>...</th>\n",
       "      <th>MechanicalEngg</th>\n",
       "      <th>ElectricalEngg</th>\n",
       "      <th>TelecomEngg</th>\n",
       "      <th>CivilEngg</th>\n",
       "      <th>conscientiousness</th>\n",
       "      <th>agreeableness</th>\n",
       "      <th>extraversion</th>\n",
       "      <th>nueroticism</th>\n",
       "      <th>openess_to_experience</th>\n",
       "      <th>Salary</th>\n",
       "    </tr>\n",
       "  </thead>\n",
       "  <tbody>\n",
       "    <tr>\n",
       "      <th>0</th>\n",
       "      <td>288761</td>\n",
       "      <td>m</td>\n",
       "      <td>1988-09-15</td>\n",
       "      <td>92.0</td>\n",
       "      <td>kerala state board</td>\n",
       "      <td>2007</td>\n",
       "      <td>80.00</td>\n",
       "      <td>kerala state board</td>\n",
       "      <td>1275</td>\n",
       "      <td>2</td>\n",
       "      <td>...</td>\n",
       "      <td>366</td>\n",
       "      <td>-1</td>\n",
       "      <td>-1</td>\n",
       "      <td>-1</td>\n",
       "      <td>0.8192</td>\n",
       "      <td>-0.2793</td>\n",
       "      <td>-0.1988</td>\n",
       "      <td>-0.6428</td>\n",
       "      <td>0.0284</td>\n",
       "      <td>95000</td>\n",
       "    </tr>\n",
       "    <tr>\n",
       "      <th>1</th>\n",
       "      <td>1201536</td>\n",
       "      <td>m</td>\n",
       "      <td>1991-07-14</td>\n",
       "      <td>89.9</td>\n",
       "      <td>state board</td>\n",
       "      <td>2009</td>\n",
       "      <td>84.50</td>\n",
       "      <td>state board</td>\n",
       "      <td>8524</td>\n",
       "      <td>2</td>\n",
       "      <td>...</td>\n",
       "      <td>-1</td>\n",
       "      <td>-1</td>\n",
       "      <td>-1</td>\n",
       "      <td>-1</td>\n",
       "      <td>1.2772</td>\n",
       "      <td>0.8784</td>\n",
       "      <td>0.4711</td>\n",
       "      <td>-0.7415</td>\n",
       "      <td>0.4805</td>\n",
       "      <td>360000</td>\n",
       "    </tr>\n",
       "    <tr>\n",
       "      <th>2</th>\n",
       "      <td>496538</td>\n",
       "      <td>f</td>\n",
       "      <td>1990-08-16</td>\n",
       "      <td>71.0</td>\n",
       "      <td>cbse</td>\n",
       "      <td>2007</td>\n",
       "      <td>70.00</td>\n",
       "      <td>cbse</td>\n",
       "      <td>58</td>\n",
       "      <td>2</td>\n",
       "      <td>...</td>\n",
       "      <td>-1</td>\n",
       "      <td>-1</td>\n",
       "      <td>-1</td>\n",
       "      <td>-1</td>\n",
       "      <td>-1.6924</td>\n",
       "      <td>1.1248</td>\n",
       "      <td>-1.2148</td>\n",
       "      <td>1.0611</td>\n",
       "      <td>-0.1295</td>\n",
       "      <td>265000</td>\n",
       "    </tr>\n",
       "    <tr>\n",
       "      <th>3</th>\n",
       "      <td>353442</td>\n",
       "      <td>m</td>\n",
       "      <td>1990-09-14</td>\n",
       "      <td>91.0</td>\n",
       "      <td>karnataka state board</td>\n",
       "      <td>2008</td>\n",
       "      <td>84.33</td>\n",
       "      <td>pre university board, karnataka</td>\n",
       "      <td>855</td>\n",
       "      <td>2</td>\n",
       "      <td>...</td>\n",
       "      <td>-1</td>\n",
       "      <td>-1</td>\n",
       "      <td>-1</td>\n",
       "      <td>-1</td>\n",
       "      <td>-0.6491</td>\n",
       "      <td>0.3448</td>\n",
       "      <td>0.0914</td>\n",
       "      <td>-0.3490</td>\n",
       "      <td>-1.5513</td>\n",
       "      <td>565000</td>\n",
       "    </tr>\n",
       "    <tr>\n",
       "      <th>4</th>\n",
       "      <td>473825</td>\n",
       "      <td>m</td>\n",
       "      <td>1988-02-05</td>\n",
       "      <td>78.0</td>\n",
       "      <td>0</td>\n",
       "      <td>2005</td>\n",
       "      <td>67.00</td>\n",
       "      <td>0</td>\n",
       "      <td>8946</td>\n",
       "      <td>2</td>\n",
       "      <td>...</td>\n",
       "      <td>-1</td>\n",
       "      <td>-1</td>\n",
       "      <td>-1</td>\n",
       "      <td>-1</td>\n",
       "      <td>0.1623</td>\n",
       "      <td>1.4368</td>\n",
       "      <td>1.6880</td>\n",
       "      <td>-0.6134</td>\n",
       "      <td>0.6603</td>\n",
       "      <td>660000</td>\n",
       "    </tr>\n",
       "  </tbody>\n",
       "</table>\n",
       "<p>5 rows × 34 columns</p>\n",
       "</div>"
      ],
      "text/plain": [
       "        ID Gender         DOB  10percentage                10board  \\\n",
       "0   288761      m  1988-09-15          92.0     kerala state board   \n",
       "1  1201536      m  1991-07-14          89.9            state board   \n",
       "2   496538      f  1990-08-16          71.0                   cbse   \n",
       "3   353442      m  1990-09-14          91.0  karnataka state board   \n",
       "4   473825      m  1988-02-05          78.0                      0   \n",
       "\n",
       "   12graduation  12percentage                          12board  CollegeID  \\\n",
       "0          2007         80.00               kerala state board       1275   \n",
       "1          2009         84.50                      state board       8524   \n",
       "2          2007         70.00                             cbse         58   \n",
       "3          2008         84.33  pre university board, karnataka        855   \n",
       "4          2005         67.00                                0       8946   \n",
       "\n",
       "   CollegeTier  ... MechanicalEngg ElectricalEngg  TelecomEngg  CivilEngg  \\\n",
       "0            2  ...            366             -1           -1         -1   \n",
       "1            2  ...             -1             -1           -1         -1   \n",
       "2            2  ...             -1             -1           -1         -1   \n",
       "3            2  ...             -1             -1           -1         -1   \n",
       "4            2  ...             -1             -1           -1         -1   \n",
       "\n",
       "   conscientiousness agreeableness  extraversion  nueroticism  \\\n",
       "0             0.8192       -0.2793       -0.1988      -0.6428   \n",
       "1             1.2772        0.8784        0.4711      -0.7415   \n",
       "2            -1.6924        1.1248       -1.2148       1.0611   \n",
       "3            -0.6491        0.3448        0.0914      -0.3490   \n",
       "4             0.1623        1.4368        1.6880      -0.6134   \n",
       "\n",
       "   openess_to_experience  Salary  \n",
       "0                 0.0284   95000  \n",
       "1                 0.4805  360000  \n",
       "2                -0.1295  265000  \n",
       "3                -1.5513  565000  \n",
       "4                 0.6603  660000  \n",
       "\n",
       "[5 rows x 34 columns]"
      ]
     },
     "execution_count": 3,
     "metadata": {},
     "output_type": "execute_result"
    }
   ],
   "source": [
    "data = pd.read_csv(\"Train.csv\")\n",
    "data.head()"
   ]
  },
  {
   "cell_type": "code",
   "execution_count": 4,
   "metadata": {},
   "outputs": [],
   "source": [
    "#Cast de Variables categoricas con diferentes tipos de dato\n",
    "data['CollegeID'] = data['CollegeID'].astype('O')"
   ]
  },
  {
   "cell_type": "code",
   "execution_count": 5,
   "metadata": {},
   "outputs": [
    {
     "data": {
      "text/plain": [
       "((1993, 31), (855, 31))"
      ]
     },
     "execution_count": 5,
     "metadata": {},
     "output_type": "execute_result"
    }
   ],
   "source": [
    "#separamos data para entrenamiento y prueba,\n",
    "X_train, X_test, y_train, y_test = train_test_split(\n",
    "                        data.drop(['ID', 'CollegeCityID', 'Salary'], axis=1),\n",
    "                        data['Salary'],\n",
    "                        test_size=0.3,\n",
    "                        random_state=2021)\n",
    "\n",
    "X_train.shape, X_test.shape"
   ]
  },
  {
   "cell_type": "code",
   "execution_count": 6,
   "metadata": {},
   "outputs": [],
   "source": [
    "# Transformación del Target\n",
    "y_train, param_y = stats.boxcox(y_train)\n",
    "y_train = pd.Series(y_train).rename('Salary')\n",
    "y_test = stats.boxcox(y_test, lmbda = param_y)\n",
    "y_test = pd.Series(y_test).rename('Salary')"
   ]
  },
  {
   "cell_type": "code",
   "execution_count": 19,
   "metadata": {},
   "outputs": [
    {
     "data": {
      "text/plain": [
       "['boxcox_y.joblib']"
      ]
     },
     "execution_count": 19,
     "metadata": {},
     "output_type": "execute_result"
    }
   ],
   "source": [
    "joblib.dump(param_y, 'boxcox_y.joblib')"
   ]
  },
  {
   "cell_type": "markdown",
   "metadata": {},
   "source": [
    "### 5.1. Configuración del ML Pipeline"
   ]
  },
  {
   "cell_type": "code",
   "execution_count": 7,
   "metadata": {},
   "outputs": [],
   "source": [
    "#Variables categóricas\n",
    "CATEGORICAL_VARS = ['10board', '12board', 'Specialization', 'CollegeState', 'CollegeID', 'Gender', 'Degree']\n",
    "\n",
    "#Variables numéricas\n",
    "NUMERICAL_VARS = ['10percentage',\n",
    " '12percentage',\n",
    " 'CollegeTier',\n",
    " 'collegeGPA',\n",
    " 'CollegeCityTier',\n",
    " 'English',\n",
    " 'Logical',\n",
    " 'Quant',\n",
    " 'Domain',\n",
    " 'ComputerProgramming',\n",
    " 'ElectronicsAndSemicon',\n",
    " 'ComputerScience',\n",
    " 'MechanicalEngg',\n",
    " 'ElectricalEngg',\n",
    " 'TelecomEngg',\n",
    " 'CivilEngg',\n",
    " 'conscientiousness',\n",
    " 'agreeableness',\n",
    " 'extraversion',\n",
    " 'nueroticism',\n",
    " 'openess_to_experience']\n",
    "\n",
    "#Variables con etiquetas raras\n",
    "RARE_LABEL_VARS = ['10board', '12board', 'Specialization', 'CollegeState', 'CollegeID']\n",
    "\n",
    "#Variables para binarizar por sesgo fuerte\n",
    "BINARIZE_VARS = ['ElectronicsAndSemicon', 'MechanicalEngg', 'ElectricalEngg', 'TelecomEngg']\n",
    "\n",
    "#Variables para aplicar transformación Yeo Johnson\n",
    "YEOJOHNSON_VARS = ['10percentage', '12percentage', 'collegeGPA', 'English', 'Logical', 'Quant', 'Domain', 'conscientiousness', 'agreeableness', 'extraversion', 'nueroticism', 'openess_to_experience']\n",
    "\n",
    "#Variables de temporalidad\n",
    "TEMPORAL_VARS = ['12graduation', 'GraduationYear']\n",
    "\n",
    "REF_VAR = 'DOB'\n",
    "\n",
    "#Variable a eliminar\n",
    "DROP_FEATURES = ['DOB']\n",
    "\n",
    "#Variables a utilizar en el modelo\n",
    "FEATURES = ['Gender',\n",
    " 'DOB',\n",
    " '10percentage',\n",
    " '10board',\n",
    " '12graduation',\n",
    " '12percentage',\n",
    " '12board',\n",
    " 'CollegeID',\n",
    " 'CollegeTier',\n",
    " 'Degree',\n",
    " 'Specialization',\n",
    " 'collegeGPA',\n",
    " 'CollegeCityTier',\n",
    " 'CollegeState',\n",
    " 'GraduationYear',\n",
    " 'English',\n",
    " 'Logical',\n",
    " 'Quant',\n",
    " 'Domain',\n",
    " 'ComputerProgramming',\n",
    " 'ElectronicsAndSemicon',\n",
    " 'ComputerScience',\n",
    " 'MechanicalEngg',\n",
    " 'ElectricalEngg',\n",
    " 'TelecomEngg',\n",
    " 'CivilEngg',\n",
    " 'conscientiousness',\n",
    " 'agreeableness',\n",
    " 'extraversion',\n",
    " 'nueroticism',\n",
    " 'openess_to_experience']"
   ]
  },
  {
   "cell_type": "code",
   "execution_count": 8,
   "metadata": {},
   "outputs": [
    {
     "data": {
      "text/plain": [
       "(1993, 31)"
      ]
     },
     "execution_count": 8,
     "metadata": {},
     "output_type": "execute_result"
    }
   ],
   "source": [
    "#Selección de variables para entrenamiento\n",
    "X_train = X_train[FEATURES]\n",
    "X_train.shape"
   ]
  },
  {
   "cell_type": "code",
   "execution_count": 13,
   "metadata": {},
   "outputs": [],
   "source": [
    "EngineeringSalary_pipeline = Pipeline([\n",
    "    \n",
    "    #============= IMPUTACIONES ===================#\n",
    "    \n",
    "    #2. Indicamos Faltante en variables numéricas para imputar\n",
    "    ('missing_indicator', AddMissingIndicator(variables=NUMERICAL_VARS)),\n",
    "    \n",
    "    #3. Imputación de mediana para variables categoricas\n",
    "    ('mean_imputation', MeanMedianImputer(\n",
    "        imputation_method='mean', variables=NUMERICAL_VARS)\n",
    "    ),\n",
    "    \n",
    "    #============= VARIABLES TEMPORALES ==================\n",
    "    \n",
    "    #4. Tratamiento de variables temporales\n",
    "    ('eslapsed_time', mypp.TemporalVariableTransformer(\n",
    "        variables=TEMPORAL_VARS, reference_variable=REF_VAR)\n",
    "    ),\n",
    "    \n",
    "    #5. Drop de variables\n",
    "    ('drop_features', DropFeatures(features_to_drop=DROP_FEATURES)),\n",
    "    \n",
    "    #============= TRANSFORMACIÓN DE VARIABLES NUMÉRICAS =============\n",
    "    \n",
    "    #6. Transformación Yeo Johnson\n",
    "    ('YJ_transformation', YeoJohnsonTransformer(variables=YEOJOHNSON_VARS)),\n",
    "    \n",
    "    #7. Binarización de Variables con Sesgo Fuerte\n",
    "    ('binarizer', SklearnTransformerWrapper(\n",
    "        transformer=Binarizer(threshold=-1), variables=BINARIZE_VARS)\n",
    "    ),\n",
    "    \n",
    "    #============ CODIFICACION DE VARIABLES CATEGORICAS NOMINALES ============\n",
    "    \n",
    "    #8. Codificación de etiquetas raras\n",
    "    ('rare_label_encoder', RareLabelEncoder(\n",
    "        tol=0.01, n_categories=1, variables=RARE_LABEL_VARS)),\n",
    "    \n",
    "    #9. Codificación de variables categóricas por ordinal encoding\n",
    "    ('categorical_encoder', OrdinalEncoder(\n",
    "        encoding_method='ordered', variables=CATEGORICAL_VARS)),\n",
    "    \n",
    "    #=========== SCALER ==============\n",
    "    ('scaler', MinMaxScaler()),\n",
    "    \n",
    "    #=========== ENTRENAMIENTO DEL MODELO ============\n",
    "    ('LM_Model', LinearRegression()),\n",
    "])"
   ]
  },
  {
   "cell_type": "code",
   "execution_count": 14,
   "metadata": {},
   "outputs": [
    {
     "data": {
      "text/plain": [
       "Pipeline(steps=[('missing_indicator',\n",
       "                 AddMissingIndicator(variables=['10percentage', '12percentage',\n",
       "                                                'CollegeTier', 'collegeGPA',\n",
       "                                                'CollegeCityTier', 'English',\n",
       "                                                'Logical', 'Quant', 'Domain',\n",
       "                                                'ComputerProgramming',\n",
       "                                                'ElectronicsAndSemicon',\n",
       "                                                'ComputerScience',\n",
       "                                                'MechanicalEngg',\n",
       "                                                'ElectricalEngg', 'TelecomEngg',\n",
       "                                                'CivilEngg',\n",
       "                                                'conscientiousness',\n",
       "                                                'agreeableness', 'extravers...\n",
       "                                                      'TelecomEngg'])),\n",
       "                ('rare_label_encoder',\n",
       "                 RareLabelEncoder(n_categories=1, tol=0.01,\n",
       "                                  variables=['10board', '12board',\n",
       "                                             'Specialization', 'CollegeState',\n",
       "                                             'CollegeID'])),\n",
       "                ('categorical_encoder',\n",
       "                 OrdinalEncoder(variables=['10board', '12board',\n",
       "                                           'Specialization', 'CollegeState',\n",
       "                                           'CollegeID', 'Gender', 'Degree'])),\n",
       "                ('scaler', MinMaxScaler()), ('LM_Model', LinearRegression())])"
      ]
     },
     "execution_count": 14,
     "metadata": {},
     "output_type": "execute_result"
    }
   ],
   "source": [
    "EngineeringSalary_pipeline.fit(X_train, y_train)"
   ]
  },
  {
   "cell_type": "code",
   "execution_count": 15,
   "metadata": {},
   "outputs": [
    {
     "name": "stdout",
     "output_type": "stream",
     "text": [
      "MSE de Entrenamiento: 43889287766.342575\n",
      "RMSE de Entrenamiento: 209497.70348703724\n",
      "R2 de Entrenamiento: 0.1183675824258772\n"
     ]
    }
   ],
   "source": [
    "preds = EngineeringSalary_pipeline.predict(X_test)\n",
    "print(\"MSE de Entrenamiento: {}\".format(mean_squared_error(inv_boxcox(y_test, param_y), inv_boxcox(preds, param_y))))\n",
    "print(\"RMSE de Entrenamiento: {}\".format(mean_squared_error(inv_boxcox(y_test, param_y), inv_boxcox(preds, param_y), squared=False)))\n",
    "print(\"R2 de Entrenamiento: {}\".format(r2_score(inv_boxcox(y_test, param_y), inv_boxcox(preds, param_y))))"
   ]
  },
  {
   "cell_type": "code",
   "execution_count": 16,
   "metadata": {},
   "outputs": [],
   "source": [
    "#Cargamos dataset test.csv para prueba.\n",
    "Test = pd.read_csv(\"Test.csv\")\n",
    "Test = Test[FEATURES]\n",
    "Test['CollegeID'] = Test['CollegeID'].astype('O')"
   ]
  },
  {
   "cell_type": "code",
   "execution_count": 18,
   "metadata": {},
   "outputs": [
    {
     "data": {
      "text/plain": [
       "array([182620.78250684, 353820.17510012, 179800.26652588, 258345.09233134,\n",
       "       237543.81628912, 312686.69173246, 194718.31524693, 292750.79162201,\n",
       "       187607.59090612, 328106.91364715, 230079.77074409, 180871.48201819,\n",
       "       299387.24883521, 264719.34154315, 246375.86512559, 250203.86396676,\n",
       "       273384.674657  , 228832.04342434, 205105.62684689, 276244.7204982 ,\n",
       "       230318.38914277, 485619.32634569, 186748.47885818, 180060.37272321,\n",
       "       198476.7865599 , 172337.78875646, 273105.58594738, 432406.45146703,\n",
       "       173240.18450559, 178311.99593328, 306373.13639565, 240271.34146113,\n",
       "       236610.77563613, 173103.03999336, 244081.60616915, 211480.57332247,\n",
       "       324195.56774409, 413778.46578752, 176925.60837437, 337668.48151239,\n",
       "       242739.81370715, 259438.00765277, 183542.34373435, 234817.78708427,\n",
       "       208033.44720339, 373571.07960903, 306344.87233108, 299587.91249524,\n",
       "       228815.70584542, 413170.35235226, 256082.73956863, 312625.65576897,\n",
       "       219059.23839914, 177847.41632063, 162978.02020833, 229222.25847348,\n",
       "       284636.26126838, 250537.10848016, 167588.53780451, 250397.40769019,\n",
       "       294484.25920635, 316112.93539173, 340580.91516267, 178781.56172805,\n",
       "       345992.62671717, 374253.69590718, 246334.51951106, 262912.46631372,\n",
       "       451751.64466786, 279737.18887926, 234853.96107687, 336104.56390127,\n",
       "       291415.29821694, 176795.17916708, 232961.91204253, 193338.65631264,\n",
       "       178274.25044548, 225206.87411758, 226860.82416576, 313746.14520178,\n",
       "       167270.46110546, 579783.69019758, 250994.06647217, 229221.92232371,\n",
       "       216669.18356571, 306669.56629627, 312521.44376327, 227732.50797061,\n",
       "       143050.56709166, 295048.41536501, 298299.56447706, 345147.42709337,\n",
       "       162293.0902426 , 284783.73308313, 250107.21818864, 376440.9578843 ,\n",
       "       178527.41091649, 187003.95409094, 292496.24363306, 186099.09799434,\n",
       "       215261.81341993, 269599.93383698, 175022.61006182, 239207.18766468,\n",
       "       251218.32015186, 215255.25364178, 314405.61270808, 337317.63727529,\n",
       "       234414.21286084, 143787.31488979, 288721.83901732, 420204.38057151,\n",
       "       332920.32730859, 297649.28386083, 322074.21590612, 300203.3505935 ,\n",
       "       434571.42161751, 259318.57979422, 256701.38996341, 201544.83317314,\n",
       "       236973.15575977, 275810.94988031, 347651.56244186, 227119.77038338,\n",
       "       296225.11186556, 252808.23738626, 615772.62595158, 313470.03086974,\n",
       "       420258.72457486, 292981.78475952, 214690.13786316, 285960.6163497 ,\n",
       "       212557.61085831, 124376.99389214, 335651.19371934, 257127.95930733,\n",
       "       232869.3938173 , 279971.29625178, 364796.27612158, 275618.26811018,\n",
       "       238488.99174454, 203412.04200027, 326035.69301394, 355170.3021989 ,\n",
       "       315944.48437814, 226450.97940395, 228190.15814654, 402050.40976716,\n",
       "       362435.99252146, 373089.18532924])"
      ]
     },
     "execution_count": 18,
     "metadata": {},
     "output_type": "execute_result"
    }
   ],
   "source": [
    "#Realizamos predicciones sobre el dataset de prueba\n",
    "preds_test = EngineeringSalary_pipeline.predict(Test)\n",
    "inv_boxcox(preds_test, param_y)"
   ]
  },
  {
   "cell_type": "code",
   "execution_count": 21,
   "metadata": {},
   "outputs": [
    {
     "data": {
      "text/plain": [
       "['EngineeringSalary_pipeline.pkl']"
      ]
     },
     "execution_count": 21,
     "metadata": {},
     "output_type": "execute_result"
    }
   ],
   "source": [
    "#Guardamos pipeline\n",
    "joblib.dump(EngineeringSalary_pipeline, 'EngineeringSalary_pipeline.pkl')"
   ]
  },
  {
   "cell_type": "code",
   "execution_count": null,
   "metadata": {},
   "outputs": [],
   "source": []
  }
 ],
 "metadata": {
  "kernelspec": {
   "display_name": "Python 3",
   "language": "python",
   "name": "python3"
  },
  "language_info": {
   "codemirror_mode": {
    "name": "ipython",
    "version": 3
   },
   "file_extension": ".py",
   "mimetype": "text/x-python",
   "name": "python",
   "nbconvert_exporter": "python",
   "pygments_lexer": "ipython3",
   "version": "3.8.5"
  }
 },
 "nbformat": 4,
 "nbformat_minor": 4
}
