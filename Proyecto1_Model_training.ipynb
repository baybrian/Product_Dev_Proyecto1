{
 "cells": [
  {
   "cell_type": "markdown",
   "metadata": {},
   "source": [
    "# Proyecto # 1 - 1a Parte\n",
    "## Product Development - Ing. Preng Biba\n",
    "### Hugo Brian Bay Rojas - Carnet 20002544"
   ]
  },
  {
   "cell_type": "markdown",
   "metadata": {},
   "source": [
    "## 3. Variable Selection"
   ]
  },
  {
   "cell_type": "code",
   "execution_count": 64,
   "metadata": {},
   "outputs": [],
   "source": [
    "import pandas as pd\n",
    "import numpy as np\n",
    "\n",
    "import matplotlib.pyplot as plt\n",
    "\n",
    "from sklearn.linear_model import Lasso\n",
    "from sklearn.feature_selection import SelectFromModel\n",
    "from sklearn.linear_model import Ridge\n",
    "from sklearn.linear_model import LinearRegression\n",
    "\n",
    "from sklearn.metrics import mean_squared_error\n",
    "from sklearn.metrics import r2_score\n",
    "\n",
    "from scipy.special import inv_boxcox\n",
    "\n",
    "import joblib"
   ]
  },
  {
   "cell_type": "code",
   "execution_count": 65,
   "metadata": {},
   "outputs": [],
   "source": [
    "X_train = pd.read_csv(\"preprocess_data/prep_Xtrain.csv\")\n",
    "X_test = pd.read_csv(\"preprocess_data/prep_Xtest.csv\")"
   ]
  },
  {
   "cell_type": "code",
   "execution_count": 66,
   "metadata": {},
   "outputs": [
    {
     "data": {
      "text/html": [
       "<div>\n",
       "<style scoped>\n",
       "    .dataframe tbody tr th:only-of-type {\n",
       "        vertical-align: middle;\n",
       "    }\n",
       "\n",
       "    .dataframe tbody tr th {\n",
       "        vertical-align: top;\n",
       "    }\n",
       "\n",
       "    .dataframe thead th {\n",
       "        text-align: right;\n",
       "    }\n",
       "</style>\n",
       "<table border=\"1\" class=\"dataframe\">\n",
       "  <thead>\n",
       "    <tr style=\"text-align: right;\">\n",
       "      <th></th>\n",
       "      <th>Gender</th>\n",
       "      <th>10percentage</th>\n",
       "      <th>10board</th>\n",
       "      <th>12graduation</th>\n",
       "      <th>12percentage</th>\n",
       "      <th>12board</th>\n",
       "      <th>CollegeID</th>\n",
       "      <th>CollegeTier</th>\n",
       "      <th>Degree</th>\n",
       "      <th>Specialization</th>\n",
       "      <th>...</th>\n",
       "      <th>ComputerScience</th>\n",
       "      <th>MechanicalEngg</th>\n",
       "      <th>ElectricalEngg</th>\n",
       "      <th>TelecomEngg</th>\n",
       "      <th>CivilEngg</th>\n",
       "      <th>conscientiousness</th>\n",
       "      <th>agreeableness</th>\n",
       "      <th>extraversion</th>\n",
       "      <th>nueroticism</th>\n",
       "      <th>openess_to_experience</th>\n",
       "    </tr>\n",
       "  </thead>\n",
       "  <tbody>\n",
       "    <tr>\n",
       "      <th>0</th>\n",
       "      <td>1.0</td>\n",
       "      <td>0.234155</td>\n",
       "      <td>0.714286</td>\n",
       "      <td>0.333333</td>\n",
       "      <td>0.458371</td>\n",
       "      <td>0.500000</td>\n",
       "      <td>1.0</td>\n",
       "      <td>1.0</td>\n",
       "      <td>0.333333</td>\n",
       "      <td>0.111111</td>\n",
       "      <td>...</td>\n",
       "      <td>0.569832</td>\n",
       "      <td>0.0</td>\n",
       "      <td>0.0</td>\n",
       "      <td>0.0</td>\n",
       "      <td>0.0</td>\n",
       "      <td>0.926364</td>\n",
       "      <td>0.294952</td>\n",
       "      <td>0.371902</td>\n",
       "      <td>0.171028</td>\n",
       "      <td>0.479338</td>\n",
       "    </tr>\n",
       "    <tr>\n",
       "      <th>1</th>\n",
       "      <td>1.0</td>\n",
       "      <td>0.443660</td>\n",
       "      <td>0.857143</td>\n",
       "      <td>0.583333</td>\n",
       "      <td>0.478988</td>\n",
       "      <td>0.666667</td>\n",
       "      <td>1.0</td>\n",
       "      <td>1.0</td>\n",
       "      <td>0.333333</td>\n",
       "      <td>0.444444</td>\n",
       "      <td>...</td>\n",
       "      <td>0.000000</td>\n",
       "      <td>0.0</td>\n",
       "      <td>0.0</td>\n",
       "      <td>0.0</td>\n",
       "      <td>0.0</td>\n",
       "      <td>0.820284</td>\n",
       "      <td>0.762350</td>\n",
       "      <td>0.598443</td>\n",
       "      <td>0.358717</td>\n",
       "      <td>0.677631</td>\n",
       "    </tr>\n",
       "    <tr>\n",
       "      <th>2</th>\n",
       "      <td>1.0</td>\n",
       "      <td>0.812883</td>\n",
       "      <td>0.714286</td>\n",
       "      <td>0.416667</td>\n",
       "      <td>0.614334</td>\n",
       "      <td>0.500000</td>\n",
       "      <td>1.0</td>\n",
       "      <td>1.0</td>\n",
       "      <td>0.333333</td>\n",
       "      <td>0.333333</td>\n",
       "      <td>...</td>\n",
       "      <td>0.000000</td>\n",
       "      <td>1.0</td>\n",
       "      <td>0.0</td>\n",
       "      <td>0.0</td>\n",
       "      <td>0.0</td>\n",
       "      <td>0.353043</td>\n",
       "      <td>0.445682</td>\n",
       "      <td>0.710622</td>\n",
       "      <td>0.733449</td>\n",
       "      <td>0.579626</td>\n",
       "    </tr>\n",
       "    <tr>\n",
       "      <th>3</th>\n",
       "      <td>1.0</td>\n",
       "      <td>0.312822</td>\n",
       "      <td>0.857143</td>\n",
       "      <td>0.333333</td>\n",
       "      <td>0.646791</td>\n",
       "      <td>0.666667</td>\n",
       "      <td>1.0</td>\n",
       "      <td>1.0</td>\n",
       "      <td>0.000000</td>\n",
       "      <td>0.000000</td>\n",
       "      <td>...</td>\n",
       "      <td>0.956704</td>\n",
       "      <td>0.0</td>\n",
       "      <td>0.0</td>\n",
       "      <td>0.0</td>\n",
       "      <td>0.0</td>\n",
       "      <td>0.193803</td>\n",
       "      <td>0.762350</td>\n",
       "      <td>0.598443</td>\n",
       "      <td>0.733449</td>\n",
       "      <td>0.641945</td>\n",
       "    </tr>\n",
       "    <tr>\n",
       "      <th>4</th>\n",
       "      <td>1.0</td>\n",
       "      <td>0.578905</td>\n",
       "      <td>0.857143</td>\n",
       "      <td>0.416667</td>\n",
       "      <td>0.485857</td>\n",
       "      <td>0.666667</td>\n",
       "      <td>1.0</td>\n",
       "      <td>1.0</td>\n",
       "      <td>0.333333</td>\n",
       "      <td>0.111111</td>\n",
       "      <td>...</td>\n",
       "      <td>0.000000</td>\n",
       "      <td>0.0</td>\n",
       "      <td>0.0</td>\n",
       "      <td>0.0</td>\n",
       "      <td>0.0</td>\n",
       "      <td>0.859074</td>\n",
       "      <td>0.743478</td>\n",
       "      <td>0.562093</td>\n",
       "      <td>0.291145</td>\n",
       "      <td>0.579388</td>\n",
       "    </tr>\n",
       "  </tbody>\n",
       "</table>\n",
       "<p>5 rows × 30 columns</p>\n",
       "</div>"
      ],
      "text/plain": [
       "   Gender  10percentage   10board  12graduation  12percentage   12board  \\\n",
       "0     1.0      0.234155  0.714286      0.333333      0.458371  0.500000   \n",
       "1     1.0      0.443660  0.857143      0.583333      0.478988  0.666667   \n",
       "2     1.0      0.812883  0.714286      0.416667      0.614334  0.500000   \n",
       "3     1.0      0.312822  0.857143      0.333333      0.646791  0.666667   \n",
       "4     1.0      0.578905  0.857143      0.416667      0.485857  0.666667   \n",
       "\n",
       "   CollegeID  CollegeTier    Degree  Specialization  ...  ComputerScience  \\\n",
       "0        1.0          1.0  0.333333        0.111111  ...         0.569832   \n",
       "1        1.0          1.0  0.333333        0.444444  ...         0.000000   \n",
       "2        1.0          1.0  0.333333        0.333333  ...         0.000000   \n",
       "3        1.0          1.0  0.000000        0.000000  ...         0.956704   \n",
       "4        1.0          1.0  0.333333        0.111111  ...         0.000000   \n",
       "\n",
       "   MechanicalEngg  ElectricalEngg  TelecomEngg  CivilEngg  conscientiousness  \\\n",
       "0             0.0             0.0          0.0        0.0           0.926364   \n",
       "1             0.0             0.0          0.0        0.0           0.820284   \n",
       "2             1.0             0.0          0.0        0.0           0.353043   \n",
       "3             0.0             0.0          0.0        0.0           0.193803   \n",
       "4             0.0             0.0          0.0        0.0           0.859074   \n",
       "\n",
       "   agreeableness  extraversion  nueroticism  openess_to_experience  \n",
       "0       0.294952      0.371902     0.171028               0.479338  \n",
       "1       0.762350      0.598443     0.358717               0.677631  \n",
       "2       0.445682      0.710622     0.733449               0.579626  \n",
       "3       0.762350      0.598443     0.733449               0.641945  \n",
       "4       0.743478      0.562093     0.291145               0.579388  \n",
       "\n",
       "[5 rows x 30 columns]"
      ]
     },
     "execution_count": 66,
     "metadata": {},
     "output_type": "execute_result"
    }
   ],
   "source": [
    "X_train.head()"
   ]
  },
  {
   "cell_type": "code",
   "execution_count": 67,
   "metadata": {},
   "outputs": [
    {
     "data": {
      "text/html": [
       "<div>\n",
       "<style scoped>\n",
       "    .dataframe tbody tr th:only-of-type {\n",
       "        vertical-align: middle;\n",
       "    }\n",
       "\n",
       "    .dataframe tbody tr th {\n",
       "        vertical-align: top;\n",
       "    }\n",
       "\n",
       "    .dataframe thead th {\n",
       "        text-align: right;\n",
       "    }\n",
       "</style>\n",
       "<table border=\"1\" class=\"dataframe\">\n",
       "  <thead>\n",
       "    <tr style=\"text-align: right;\">\n",
       "      <th></th>\n",
       "      <th>Salary</th>\n",
       "    </tr>\n",
       "  </thead>\n",
       "  <tbody>\n",
       "    <tr>\n",
       "      <th>0</th>\n",
       "      <td>23.713536</td>\n",
       "    </tr>\n",
       "    <tr>\n",
       "      <th>1</th>\n",
       "      <td>22.570759</td>\n",
       "    </tr>\n",
       "    <tr>\n",
       "      <th>2</th>\n",
       "      <td>21.707612</td>\n",
       "    </tr>\n",
       "    <tr>\n",
       "      <th>3</th>\n",
       "      <td>22.785080</td>\n",
       "    </tr>\n",
       "    <tr>\n",
       "      <th>4</th>\n",
       "      <td>23.744414</td>\n",
       "    </tr>\n",
       "  </tbody>\n",
       "</table>\n",
       "</div>"
      ],
      "text/plain": [
       "      Salary\n",
       "0  23.713536\n",
       "1  22.570759\n",
       "2  21.707612\n",
       "3  22.785080\n",
       "4  23.744414"
      ]
     },
     "execution_count": 67,
     "metadata": {},
     "output_type": "execute_result"
    }
   ],
   "source": [
    "y_train = pd.read_csv(\"preprocess_data/prep_ytrain.csv\")\n",
    "y_test = pd.read_csv(\"preprocess_data/prep_ytest.csv\")\n",
    "\n",
    "y_train.head()"
   ]
  },
  {
   "cell_type": "code",
   "execution_count": 68,
   "metadata": {},
   "outputs": [
    {
     "data": {
      "text/plain": [
       "SelectFromModel(estimator=Lasso(alpha=0.001, random_state=0))"
      ]
     },
     "execution_count": 68,
     "metadata": {},
     "output_type": "execute_result"
    }
   ],
   "source": [
    "#objeto selector de variables\n",
    "sel_ = SelectFromModel(Lasso(alpha=0.001, random_state=0))\n",
    "\n",
    "sel_.fit(X_train, y_train)"
   ]
  },
  {
   "cell_type": "code",
   "execution_count": 69,
   "metadata": {},
   "outputs": [
    {
     "name": "stdout",
     "output_type": "stream",
     "text": [
      "Cantidad de variables seleccionadas: 29\n"
     ]
    }
   ],
   "source": [
    "print('Cantidad de variables seleccionadas:', sel_.get_support().sum())"
   ]
  },
  {
   "cell_type": "code",
   "execution_count": 70,
   "metadata": {},
   "outputs": [
    {
     "data": {
      "text/plain": [
       "Index(['Gender', '10percentage', '10board', '12graduation', '12percentage',\n",
       "       '12board', 'CollegeID', 'CollegeTier', 'Degree', 'Specialization',\n",
       "       'collegeGPA', 'CollegeCityTier', 'CollegeState', 'GraduationYear',\n",
       "       'English', 'Logical', 'Quant', 'Domain', 'ComputerProgramming',\n",
       "       'ElectronicsAndSemicon', 'ComputerScience', 'MechanicalEngg',\n",
       "       'ElectricalEngg', 'TelecomEngg', 'CivilEngg', 'conscientiousness',\n",
       "       'agreeableness', 'extraversion', 'nueroticism'],\n",
       "      dtype='object')"
      ]
     },
     "execution_count": 70,
     "metadata": {},
     "output_type": "execute_result"
    }
   ],
   "source": [
    "selected_features = X_train.columns[(sel_.get_support())]\n",
    "selected_features"
   ]
  },
  {
   "cell_type": "code",
   "execution_count": 71,
   "metadata": {},
   "outputs": [],
   "source": [
    "pd.Series(selected_features).to_csv('preprocess_data/selected_features.csv', index=False)"
   ]
  },
  {
   "cell_type": "markdown",
   "metadata": {},
   "source": [
    "## 4. Entrenamiento del modelo"
   ]
  },
  {
   "cell_type": "code",
   "execution_count": 72,
   "metadata": {},
   "outputs": [],
   "source": [
    "X_train = X_train[selected_features]\n",
    "X_test = X_test[selected_features]"
   ]
  },
  {
   "cell_type": "code",
   "execution_count": 73,
   "metadata": {},
   "outputs": [],
   "source": [
    "from sklearn.model_selection import GridSearchCV"
   ]
  },
  {
   "cell_type": "markdown",
   "metadata": {},
   "source": [
    "### 4.1. Grid Search y Cross Validation"
   ]
  },
  {
   "cell_type": "markdown",
   "metadata": {},
   "source": [
    "#### 4.1.1. Regresión de Lasso"
   ]
  },
  {
   "cell_type": "code",
   "execution_count": 74,
   "metadata": {},
   "outputs": [
    {
     "data": {
      "text/html": [
       "<div>\n",
       "<style scoped>\n",
       "    .dataframe tbody tr th:only-of-type {\n",
       "        vertical-align: middle;\n",
       "    }\n",
       "\n",
       "    .dataframe tbody tr th {\n",
       "        vertical-align: top;\n",
       "    }\n",
       "\n",
       "    .dataframe thead th {\n",
       "        text-align: right;\n",
       "    }\n",
       "</style>\n",
       "<table border=\"1\" class=\"dataframe\">\n",
       "  <thead>\n",
       "    <tr style=\"text-align: right;\">\n",
       "      <th></th>\n",
       "      <th>rank_test_score</th>\n",
       "      <th>params</th>\n",
       "      <th>mean_test_score</th>\n",
       "    </tr>\n",
       "  </thead>\n",
       "  <tbody>\n",
       "    <tr>\n",
       "      <th>0</th>\n",
       "      <td>1</td>\n",
       "      <td>{'alpha': 0.001}</td>\n",
       "      <td>0.211087</td>\n",
       "    </tr>\n",
       "    <tr>\n",
       "      <th>1</th>\n",
       "      <td>2</td>\n",
       "      <td>{'alpha': 0.01}</td>\n",
       "      <td>0.203007</td>\n",
       "    </tr>\n",
       "    <tr>\n",
       "      <th>2</th>\n",
       "      <td>3</td>\n",
       "      <td>{'alpha': 0.1}</td>\n",
       "      <td>-0.006432</td>\n",
       "    </tr>\n",
       "    <tr>\n",
       "      <th>3</th>\n",
       "      <td>3</td>\n",
       "      <td>{'alpha': 1.0}</td>\n",
       "      <td>-0.006432</td>\n",
       "    </tr>\n",
       "    <tr>\n",
       "      <th>4</th>\n",
       "      <td>3</td>\n",
       "      <td>{'alpha': 5}</td>\n",
       "      <td>-0.006432</td>\n",
       "    </tr>\n",
       "  </tbody>\n",
       "</table>\n",
       "</div>"
      ],
      "text/plain": [
       "   rank_test_score            params  mean_test_score\n",
       "0                1  {'alpha': 0.001}         0.211087\n",
       "1                2   {'alpha': 0.01}         0.203007\n",
       "2                3    {'alpha': 0.1}        -0.006432\n",
       "3                3    {'alpha': 1.0}        -0.006432\n",
       "4                3      {'alpha': 5}        -0.006432"
      ]
     },
     "execution_count": 74,
     "metadata": {},
     "output_type": "execute_result"
    }
   ],
   "source": [
    "Lasso_model = GridSearchCV(Lasso(), {'alpha':[0.001,0.01,0.1,1.0,5]}, cv=10, scoring='r2').fit(X_train, y_train)\n",
    "LassoResults = pd.DataFrame(Lasso_model.cv_results_)\n",
    "LassoResults.sort_values(\"rank_test_score\", ascending=True)[['rank_test_score', 'params', 'mean_test_score']]"
   ]
  },
  {
   "cell_type": "markdown",
   "metadata": {},
   "source": [
    "#### 4.1.2. Regresión de Ridge"
   ]
  },
  {
   "cell_type": "code",
   "execution_count": 75,
   "metadata": {},
   "outputs": [
    {
     "data": {
      "text/html": [
       "<div>\n",
       "<style scoped>\n",
       "    .dataframe tbody tr th:only-of-type {\n",
       "        vertical-align: middle;\n",
       "    }\n",
       "\n",
       "    .dataframe tbody tr th {\n",
       "        vertical-align: top;\n",
       "    }\n",
       "\n",
       "    .dataframe thead th {\n",
       "        text-align: right;\n",
       "    }\n",
       "</style>\n",
       "<table border=\"1\" class=\"dataframe\">\n",
       "  <thead>\n",
       "    <tr style=\"text-align: right;\">\n",
       "      <th></th>\n",
       "      <th>rank_test_score</th>\n",
       "      <th>params</th>\n",
       "      <th>mean_test_score</th>\n",
       "    </tr>\n",
       "  </thead>\n",
       "  <tbody>\n",
       "    <tr>\n",
       "      <th>2</th>\n",
       "      <td>1</td>\n",
       "      <td>{'alpha': 10}</td>\n",
       "      <td>0.212469</td>\n",
       "    </tr>\n",
       "    <tr>\n",
       "      <th>1</th>\n",
       "      <td>2</td>\n",
       "      <td>{'alpha': 5}</td>\n",
       "      <td>0.212443</td>\n",
       "    </tr>\n",
       "    <tr>\n",
       "      <th>0</th>\n",
       "      <td>3</td>\n",
       "      <td>{'alpha': 1}</td>\n",
       "      <td>0.210973</td>\n",
       "    </tr>\n",
       "    <tr>\n",
       "      <th>3</th>\n",
       "      <td>4</td>\n",
       "      <td>{'alpha': 20}</td>\n",
       "      <td>0.210453</td>\n",
       "    </tr>\n",
       "    <tr>\n",
       "      <th>4</th>\n",
       "      <td>5</td>\n",
       "      <td>{'alpha': 40}</td>\n",
       "      <td>0.203757</td>\n",
       "    </tr>\n",
       "  </tbody>\n",
       "</table>\n",
       "</div>"
      ],
      "text/plain": [
       "   rank_test_score         params  mean_test_score\n",
       "2                1  {'alpha': 10}         0.212469\n",
       "1                2   {'alpha': 5}         0.212443\n",
       "0                3   {'alpha': 1}         0.210973\n",
       "3                4  {'alpha': 20}         0.210453\n",
       "4                5  {'alpha': 40}         0.203757"
      ]
     },
     "execution_count": 75,
     "metadata": {},
     "output_type": "execute_result"
    }
   ],
   "source": [
    "Ridge_model = GridSearchCV(Ridge(), {'alpha':[1,5,10,20,40]}, cv=10, scoring='r2').fit(X_train, y_train)\n",
    "RidgeResults = pd.DataFrame(Ridge_model.cv_results_)\n",
    "RidgeResults.sort_values(\"rank_test_score\", ascending=True)[['rank_test_score', 'params', 'mean_test_score']]"
   ]
  },
  {
   "cell_type": "markdown",
   "metadata": {},
   "source": [
    "### 4.2. Evaluación de mejores parámetros de cada modelo"
   ]
  },
  {
   "cell_type": "markdown",
   "metadata": {},
   "source": [
    "#### 4.2.1. Ridge"
   ]
  },
  {
   "cell_type": "code",
   "execution_count": 76,
   "metadata": {},
   "outputs": [],
   "source": [
    "Ridge_final = Ridge(alpha=10).fit(X_train, y_train)"
   ]
  },
  {
   "cell_type": "code",
   "execution_count": 77,
   "metadata": {},
   "outputs": [],
   "source": [
    "param_boxcox = joblib.load('preprocess_data/boxcox_y.joblib')"
   ]
  },
  {
   "cell_type": "code",
   "execution_count": 78,
   "metadata": {},
   "outputs": [
    {
     "name": "stdout",
     "output_type": "stream",
     "text": [
      "MSE de Entrenamiento: 36751502690.23797\n",
      "RMSE de Entrenamiento: 191706.81440741217\n",
      "R2 de Entrenamiento: 0.1098787906354618\n"
     ]
    }
   ],
   "source": [
    "preds_ridge = Ridge_final.predict(X_train)\n",
    "print(\"MSE de Entrenamiento: {}\".format(mean_squared_error(inv_boxcox(y_train, param_boxcox), inv_boxcox(preds_ridge, param_boxcox))))\n",
    "print(\"RMSE de Entrenamiento: {}\".format(mean_squared_error(inv_boxcox(y_train, param_boxcox), inv_boxcox(preds_ridge, param_boxcox), squared=False)))\n",
    "print(\"R2 de Entrenamiento: {}\".format(r2_score(inv_boxcox(y_train, param_boxcox), inv_boxcox(preds_ridge, param_boxcox))))"
   ]
  },
  {
   "cell_type": "markdown",
   "metadata": {},
   "source": [
    "#### 4.2.2. Lasso"
   ]
  },
  {
   "cell_type": "code",
   "execution_count": 79,
   "metadata": {},
   "outputs": [],
   "source": [
    "Lasso_final = Lasso(alpha=0.001).fit(X_train, y_train)"
   ]
  },
  {
   "cell_type": "code",
   "execution_count": 80,
   "metadata": {},
   "outputs": [
    {
     "name": "stdout",
     "output_type": "stream",
     "text": [
      "MSE de Entrenamiento: 36681244084.76896\n",
      "RMSE de Entrenamiento: 191523.48181037477\n",
      "R2 de Entrenamiento: 0.11158045370473668\n"
     ]
    }
   ],
   "source": [
    "preds_lasso = Lasso_final.predict(X_train)\n",
    "print(\"MSE de Entrenamiento: {}\".format(mean_squared_error(inv_boxcox(y_train, param_boxcox), inv_boxcox(preds_lasso, param_boxcox))))\n",
    "print(\"RMSE de Entrenamiento: {}\".format(mean_squared_error(inv_boxcox(y_train, param_boxcox), inv_boxcox(preds_lasso, param_boxcox), squared=False)))\n",
    "print(\"R2 de Entrenamiento: {}\".format(r2_score(inv_boxcox(y_train, param_boxcox), inv_boxcox(preds_lasso, param_boxcox))))"
   ]
  },
  {
   "cell_type": "markdown",
   "metadata": {},
   "source": [
    "#### 4.2.3. Linear Regression"
   ]
  },
  {
   "cell_type": "code",
   "execution_count": 81,
   "metadata": {},
   "outputs": [],
   "source": [
    "lm_model = LinearRegression().fit(X_train, y_train)"
   ]
  },
  {
   "cell_type": "code",
   "execution_count": 82,
   "metadata": {},
   "outputs": [
    {
     "name": "stdout",
     "output_type": "stream",
     "text": [
      "MSE de Entrenamiento: 36598748973.14693\n",
      "RMSE de Entrenamiento: 191307.99505809194\n",
      "R2 de Entrenamiento: 0.11357848489117772\n"
     ]
    }
   ],
   "source": [
    "preds_lm = lm_model.predict(X_train)\n",
    "print(\"MSE de Entrenamiento: {}\".format(mean_squared_error(inv_boxcox(y_train, param_boxcox), inv_boxcox(preds_lm, param_boxcox))))\n",
    "print(\"RMSE de Entrenamiento: {}\".format(mean_squared_error(inv_boxcox(y_train, param_boxcox), inv_boxcox(preds_lm, param_boxcox), squared=False)))\n",
    "print(\"R2 de Entrenamiento: {}\".format(r2_score(inv_boxcox(y_train, param_boxcox), inv_boxcox(preds_lm, param_boxcox))))"
   ]
  },
  {
   "cell_type": "markdown",
   "metadata": {},
   "source": [
    "El modelo con mejor performance es el de regresión linea, por lo que ese será nuestro modelo final"
   ]
  },
  {
   "cell_type": "markdown",
   "metadata": {},
   "source": [
    "### 4.3. Predicciones y evaluación del modelo"
   ]
  },
  {
   "cell_type": "code",
   "execution_count": 83,
   "metadata": {},
   "outputs": [
    {
     "name": "stdout",
     "output_type": "stream",
     "text": [
      "MSE de Entrenamiento: 47491969507.582794\n",
      "RMSE de Entrenamiento: 217926.52318518457\n",
      "R2 de Entrenamiento: 0.11780331309937797\n"
     ]
    }
   ],
   "source": [
    "preds_test = lm_model.predict(X_test)\n",
    "print(\"MSE de Entrenamiento: {}\".format(mean_squared_error(inv_boxcox(y_test, param_boxcox), inv_boxcox(preds_test, param_boxcox))))\n",
    "print(\"RMSE de Entrenamiento: {}\".format(mean_squared_error(inv_boxcox(y_test, param_boxcox), inv_boxcox(preds_test, param_boxcox), squared=False)))\n",
    "print(\"R2 de Entrenamiento: {}\".format(r2_score(inv_boxcox(y_test, param_boxcox), inv_boxcox(preds_test, param_boxcox))))"
   ]
  },
  {
   "cell_type": "code",
   "execution_count": 84,
   "metadata": {},
   "outputs": [
    {
     "data": {
      "image/png": "[encoded data removed]",
      "text/plain": [
       "<Figure size 432x288 with 1 Axes>"
      ]
     },
     "metadata": {
      "needs_background": "light"
     },
     "output_type": "display_data"
    }
   ],
   "source": [
    "plt.scatter(y_test, preds_test)\n",
    "plt.xlabel(\"Real House Value\")\n",
    "plt.ylabel(\"Predicted House Value\")\n",
    "plt.title(\"Linear Regression Model\")\n",
    "plt.show()"
   ]
  },
  {
   "cell_type": "code",
   "execution_count": 86,
   "metadata": {},
   "outputs": [
    {
     "data": {
      "text/plain": [
       "['final_model/linear_reg.joblib']"
      ]
     },
     "execution_count": 86,
     "metadata": {},
     "output_type": "execute_result"
    }
   ],
   "source": [
    "joblib.dump(lm_model, 'final_model/linear_reg.joblib')"
   ]
  },
  {
   "cell_type": "code",
   "execution_count": null,
   "metadata": {},
   "outputs": [],
   "source": []
  }
 ],
 "metadata": {
  "kernelspec": {
   "display_name": "Python 3",
   "language": "python",
   "name": "python3"
  },
  "language_info": {
   "codemirror_mode": {
    "name": "ipython",
    "version": 3
   },
   "file_extension": ".py",
   "mimetype": "text/x-python",
   "name": "python",
   "nbconvert_exporter": "python",
   "pygments_lexer": "ipython3",
   "version": "3.8.5"
  }
 },
 "nbformat": 4,
 "nbformat_minor": 4
}
